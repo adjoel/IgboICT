{
  "nbformat": 4,
  "nbformat_minor": 0,
  "metadata": {
    "colab": {
      "name": "HelloWorld_HW1.ipynb",
      "provenance": [],
      "include_colab_link": true
    },
    "kernelspec": {
      "name": "python3",
      "display_name": "Python 3"
    }
  },
  "cells": [
    {
      "cell_type": "markdown",
      "metadata": {
        "id": "view-in-github",
        "colab_type": "text"
      },
      "source": [
        "<a href=\"https://colab.research.google.com/github/adjoel/IgboICT/blob/master/HelloWorld_HW1.ipynb\" target=\"_parent\"><img src=\"https://colab.research.google.com/assets/colab-badge.svg\" alt=\"Open In Colab\"/></a>"
      ]
    },
    {
      "cell_type": "markdown",
      "metadata": {
        "id": "GZi8WrL4nctH",
        "colab_type": "text"
      },
      "source": [
        "#1. Put anything inside a multi-line comment. "
      ]
    },
    {
      "cell_type": "code",
      "metadata": {
        "id": "xLvUCh-6FMVw",
        "colab_type": "code",
        "colab": {}
      },
      "source": [
        "# Answer Here"
      ],
      "execution_count": null,
      "outputs": []
    },
    {
      "cell_type": "markdown",
      "metadata": {
        "id": "EHQxLq-lnnpg",
        "colab_type": "text"
      },
      "source": [
        "#2. Create a variable x, assign it a value of 10, and print \"The time is 10pm\". In the print statement, substitute 10 in the output with x. "
      ]
    },
    {
      "cell_type": "code",
      "metadata": {
        "id": "0Kc2jti-FTsH",
        "colab_type": "code",
        "colab": {}
      },
      "source": [
        "# Answer Here"
      ],
      "execution_count": null,
      "outputs": []
    },
    {
      "cell_type": "markdown",
      "metadata": {
        "id": "jKguSKkIFYdS",
        "colab_type": "text"
      },
      "source": [
        "#3. Print \"hello world\" on two lines with one print statement"
      ]
    },
    {
      "cell_type": "code",
      "metadata": {
        "id": "ELniWRiBFdFk",
        "colab_type": "code",
        "colab": {}
      },
      "source": [
        "# Answer Here"
      ],
      "execution_count": null,
      "outputs": []
    },
    {
      "cell_type": "markdown",
      "metadata": {
        "id": "fd4SzxQipK0v",
        "colab_type": "text"
      },
      "source": [
        "#4. Use the input() function to accept a value from user, assign it to a variable called x, and print \"I accepted x\". Substitute x with the value from the input function"
      ]
    },
    {
      "cell_type": "code",
      "metadata": {
        "id": "aFqnb-bppiAi",
        "colab_type": "code",
        "colab": {}
      },
      "source": [
        "# Answer Here"
      ],
      "execution_count": null,
      "outputs": []
    },
    {
      "cell_type": "code",
      "metadata": {
        "id": "tUOuQ1xctFXK",
        "colab_type": "code",
        "colab": {}
      },
      "source": [
        "# Explain indentation in Python"
      ],
      "execution_count": null,
      "outputs": []
    },
    {
      "cell_type": "markdown",
      "metadata": {
        "id": "XfIghzM_tNOz",
        "colab_type": "text"
      },
      "source": [
        "## 5. Casting and concatenation"
      ]
    },
    {
      "cell_type": "code",
      "metadata": {
        "id": "lW_Y8ZemtL4e",
        "colab_type": "code",
        "colab": {}
      },
      "source": [
        "# cast \n",
        "a  = '1.0' # to int\n",
        "d = 20 # to float\n",
        "c = 3.0 # to str\n",
        "\n",
        "h = 'hello'\n",
        "w = 'world'\n",
        "# concatenate them together\n",
        "\n",
        "a = 10\n",
        "b = '10'\n",
        "# concatenate them together\n"
      ],
      "execution_count": null,
      "outputs": []
    },
    {
      "cell_type": "markdown",
      "metadata": {
        "id": "JDSheWszt8wh",
        "colab_type": "text"
      },
      "source": [
        "## 6. Variables"
      ]
    },
    {
      "cell_type": "code",
      "metadata": {
        "id": "YBdSoQaDtzjE",
        "colab_type": "code",
        "colab": {}
      },
      "source": [
        "# Give me 3 invalid variable names and explain why they are invalid"
      ],
      "execution_count": null,
      "outputs": []
    }
  ]
}