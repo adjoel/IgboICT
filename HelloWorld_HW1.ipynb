{
  "nbformat": 4,
  "nbformat_minor": 0,
  "metadata": {
    "colab": {
      "name": "HelloWorld_HW1.ipynb",
      "provenance": [],
      "include_colab_link": true
    },
    "kernelspec": {
      "name": "python3",
      "display_name": "Python 3"
    }
  },
  "cells": [
    {
      "cell_type": "markdown",
      "metadata": {
        "id": "view-in-github",
        "colab_type": "text"
      },
      "source": [
        "<a href=\"https://colab.research.google.com/github/adjoel/IgboICT/blob/master/HelloWorld_HW1.ipynb\" target=\"_parent\"><img src=\"https://colab.research.google.com/assets/colab-badge.svg\" alt=\"Open In Colab\"/></a>"
      ]
    },
    {
      "cell_type": "markdown",
      "metadata": {
        "id": "GZi8WrL4nctH",
        "colab_type": "text"
      },
      "source": [
        "#1. Put anything inside a multi-line comment. "
      ]
    },
    {
      "cell_type": "code",
      "metadata": {
        "id": "xLvUCh-6FMVw",
        "colab_type": "code",
        "colab": {}
      },
      "source": [
        "# Answer Here\n",
        "'''\n",
        "This is a python class that will last for 100 days. \n",
        "So for the next 100 days days I will be learning how to code in python\n",
        "with my tutor Mr Nwachukwunemelumma\n",
        "'''"
      ],
      "execution_count": null,
      "outputs": []
    },
    {
      "cell_type": "markdown",
      "metadata": {
        "id": "EHQxLq-lnnpg",
        "colab_type": "text"
      },
      "source": [
        "#2. Create a variable x, assign it a value of 10, and print \"The time is 10pm\". In the print statement, substitute 10 in the output with x. "
      ]
    },
    {
      "cell_type": "code",
      "metadata": {
        "id": "0Kc2jti-FTsH",
        "colab_type": "code",
        "colab": {
          "base_uri": "https://localhost:8080/",
          "height": 34
        },
        "outputId": "25b2b45c-21d1-4bc4-a1da-585ca136249e"
      },
      "source": [
        "# Answer Here\n",
        "x = 10\n",
        "print(f\"{x}pm\")"
      ],
      "execution_count": 11,
      "outputs": [
        {
          "output_type": "stream",
          "text": [
            "10pm\n"
          ],
          "name": "stdout"
        }
      ]
    },
    {
      "cell_type": "markdown",
      "metadata": {
        "id": "jKguSKkIFYdS",
        "colab_type": "text"
      },
      "source": [
        "#3. Print \"hello world\" on two lines with one print statement"
      ]
    },
    {
      "cell_type": "code",
      "metadata": {
        "id": "ELniWRiBFdFk",
        "colab_type": "code",
        "colab": {
          "base_uri": "https://localhost:8080/",
          "height": 51
        },
        "outputId": "b9fc820d-c12b-406d-a6b4-5877d0eaba80"
      },
      "source": [
        "# Answer Here\n",
        "print('Hello\\nWorld')"
      ],
      "execution_count": 13,
      "outputs": [
        {
          "output_type": "stream",
          "text": [
            "Hello\n",
            "World\n"
          ],
          "name": "stdout"
        }
      ]
    },
    {
      "cell_type": "markdown",
      "metadata": {
        "id": "fd4SzxQipK0v",
        "colab_type": "text"
      },
      "source": [
        "#4. Use the input() function to accept a value from user, assign it to a variable called x, and print \"I accepted x\". Substitute x with the value from the input function"
      ]
    },
    {
      "cell_type": "code",
      "metadata": {
        "id": "aFqnb-bppiAi",
        "colab_type": "code",
        "colab": {
          "base_uri": "https://localhost:8080/",
          "height": 51
        },
        "outputId": "8b24e06e-a1f6-4318-a53d-c5f81dbee3b1"
      },
      "source": [
        "# Answer Here\n",
        "x = input('enter the amount you accepted: ')\n",
        "print(f'I accepted ${x}')"
      ],
      "execution_count": 16,
      "outputs": [
        {
          "output_type": "stream",
          "text": [
            "enter the amount you accepted: 100\n",
            "I accepted $100\n"
          ],
          "name": "stdout"
        }
      ]
    },
    {
      "cell_type": "code",
      "metadata": {
        "id": "tUOuQ1xctFXK",
        "colab_type": "code",
        "colab": {
          "base_uri": "https://localhost:8080/",
          "height": 34
        },
        "outputId": "0d114137-32af-458c-a3e2-c071ba3a48b4"
      },
      "source": [
        "# Explain indentation in Python\n",
        "'''\n",
        "Indentation is a way of telling python interprter that a group of code \n",
        "belong to a particular block of code\n",
        "Example\n",
        "'''\n",
        "if 5 < 2:\n",
        "  print('How come?')\n",
        "else:\n",
        "  print('Ok you are right')"
      ],
      "execution_count": 20,
      "outputs": [
        {
          "output_type": "stream",
          "text": [
            "Ok you are right\n"
          ],
          "name": "stdout"
        }
      ]
    },
    {
      "cell_type": "markdown",
      "metadata": {
        "id": "XfIghzM_tNOz",
        "colab_type": "text"
      },
      "source": [
        "## 5. Casting and concatenation"
      ]
    },
    {
      "cell_type": "code",
      "metadata": {
        "id": "lW_Y8ZemtL4e",
        "colab_type": "code",
        "colab": {
          "base_uri": "https://localhost:8080/",
          "height": 102
        },
        "outputId": "066b514f-d9a9-43b4-8a4e-6e080fed1364"
      },
      "source": [
        "# cast \n",
        "a  = '1.0' # to int\n",
        "d = 20 # to float\n",
        "c = 3.0 # to str\n",
        "\n",
        "# Answers\n",
        "a = int(float(a))\n",
        "d = float(d)\n",
        "c = str(c)\n",
        "\n",
        "print(type(a))\n",
        "print(type(d))\n",
        "print(type(c))\n",
        "\n",
        "h = 'hello'\n",
        "w = 'world'\n",
        "# concatenate them together\n",
        "\n",
        "# Answer\n",
        "print(h + \" \"+ w)\n",
        "\n",
        "a = 10\n",
        "b = '10'\n",
        "# concatenate them together\n",
        "print(a, b)\n"
      ],
      "execution_count": 27,
      "outputs": [
        {
          "output_type": "stream",
          "text": [
            "<class 'int'>\n",
            "<class 'float'>\n",
            "<class 'str'>\n",
            "hello world\n",
            "10 10\n"
          ],
          "name": "stdout"
        }
      ]
    },
    {
      "cell_type": "markdown",
      "metadata": {
        "id": "JDSheWszt8wh",
        "colab_type": "text"
      },
      "source": [
        "## 6. Variables"
      ]
    },
    {
      "cell_type": "code",
      "metadata": {
        "id": "YBdSoQaDtzjE",
        "colab_type": "code",
        "colab": {}
      },
      "source": [
        "# Give me 3 invalid variable names and explain why they are invalid\n",
        "8 = \"python\"\n",
        "3name = 8\n",
        "non local = \"hello world\""
      ],
      "execution_count": null,
      "outputs": []
    }
  ]
}